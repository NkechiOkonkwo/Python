{
 "cells": [
  {
   "cell_type": "code",
   "execution_count": 1,
   "id": "5d8a2687",
   "metadata": {},
   "outputs": [
    {
     "data": {
      "text/plain": [
       "[1, 2, 3, 4, 5, 6, 7, 8, 9, 10, 11, 12, 13, 14, 15, 16, 17, 18, 19, 20]"
      ]
     },
     "execution_count": 1,
     "metadata": {},
     "output_type": "execute_result"
    }
   ],
   "source": [
    "# Write a Python program that generates and prints the first 20 numbers in the FizzBuzz sequence\n",
    "\n",
    "list(range(1, 21))"
   ]
  },
  {
   "cell_type": "code",
   "execution_count": 2,
   "id": "6773c6c6",
   "metadata": {},
   "outputs": [
    {
     "name": "stdout",
     "output_type": "stream",
     "text": [
      "1\n",
      "2\n",
      "Fizz\n",
      "4\n",
      "Buzz\n",
      "Fizz\n",
      "7\n",
      "8\n",
      "Fizz\n",
      "Buzz\n",
      "11\n",
      "Fizz\n",
      "13\n",
      "14\n",
      "FizzBuzz\n",
      "16\n",
      "17\n",
      "Fizz\n",
      "19\n",
      "Buzz\n"
     ]
    }
   ],
   "source": [
    "# For numbers divisible by 3 print Fizz, for those divisible by 5 print Buzz, if divisible by both 3 and 5 print FizzBuzz else print the number\n",
    "\n",
    "for number in range(1, 21):\n",
    "    if number % 3 == 0 and number % 5 == 0:\n",
    "        print('FizzBuzz')\n",
    "    elif number % 3 == 0:\n",
    "        print('Fizz')\n",
    "    elif number % 5 == 0:\n",
    "        print('Buzz')\n",
    "    else:\n",
    "        print(number)"
   ]
  },
  {
   "cell_type": "code",
   "execution_count": null,
   "id": "709b8b19",
   "metadata": {},
   "outputs": [],
   "source": []
  }
 ],
 "metadata": {
  "kernelspec": {
   "display_name": "Python 3 (ipykernel)",
   "language": "python",
   "name": "python3"
  },
  "language_info": {
   "codemirror_mode": {
    "name": "ipython",
    "version": 3
   },
   "file_extension": ".py",
   "mimetype": "text/x-python",
   "name": "python",
   "nbconvert_exporter": "python",
   "pygments_lexer": "ipython3",
   "version": "3.10.9"
  }
 },
 "nbformat": 4,
 "nbformat_minor": 5
}
