{
 "cells": [
  {
   "cell_type": "code",
   "execution_count": 1,
   "id": "ef636b65",
   "metadata": {},
   "outputs": [
    {
     "name": "stdout",
     "output_type": "stream",
     "text": [
      "<class 'tuple'>\n"
     ]
    }
   ],
   "source": [
    "# Create a Tuple that contains a collection of items\n",
    "\n",
    "Colors = ('White', 'Pink', 'Black', 'Orange', 'Yellow', 'Green')\n",
    "print(type(Colors))"
   ]
  },
  {
   "cell_type": "code",
   "execution_count": 2,
   "id": "06cfb414",
   "metadata": {},
   "outputs": [
    {
     "name": "stdout",
     "output_type": "stream",
     "text": [
      "('White', 'Pink', 'Black', 'Orange', 'Yellow', 'Green')\n"
     ]
    }
   ],
   "source": [
    "# Display the current items in the Tuple\n",
    "\n",
    "print(Colors)"
   ]
  },
  {
   "cell_type": "code",
   "execution_count": 3,
   "id": "94f077f4",
   "metadata": {},
   "outputs": [
    {
     "name": "stdout",
     "output_type": "stream",
     "text": [
      "('White', 'Pink', 'Black', 'Orange', 'Yellow', 'Green', 'Beige')\n"
     ]
    }
   ],
   "source": [
    "# Add an item to the Tuple\n",
    "\n",
    "Colors_conv = list(Colors)\n",
    "Colors_conv.append('Beige')\n",
    "Colors = tuple(Colors_conv)\n",
    "print(Colors)"
   ]
  },
  {
   "cell_type": "code",
   "execution_count": null,
   "id": "59586882",
   "metadata": {},
   "outputs": [],
   "source": []
  }
 ],
 "metadata": {
  "kernelspec": {
   "display_name": "Python 3 (ipykernel)",
   "language": "python",
   "name": "python3"
  },
  "language_info": {
   "codemirror_mode": {
    "name": "ipython",
    "version": 3
   },
   "file_extension": ".py",
   "mimetype": "text/x-python",
   "name": "python",
   "nbconvert_exporter": "python",
   "pygments_lexer": "ipython3",
   "version": "3.10.9"
  }
 },
 "nbformat": 4,
 "nbformat_minor": 5
}
